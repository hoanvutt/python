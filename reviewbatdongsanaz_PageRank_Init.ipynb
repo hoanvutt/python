{
  "nbformat": 4,
  "nbformat_minor": 0,
  "metadata": {
    "colab": {
      "name": "reviewbatdongsanaz_PageRank_Init.ipynb",
      "provenance": [],
      "collapsed_sections": [],
      "authorship_tag": "ABX9TyPgU2UaLNHdbMe7WvOKuEfF",
      "include_colab_link": true
    },
    "kernelspec": {
      "name": "python3",
      "display_name": "Python 3"
    },
    "language_info": {
      "name": "python"
    }
  },
  "cells": [
    {
      "cell_type": "markdown",
      "metadata": {
        "id": "view-in-github",
        "colab_type": "text"
      },
      "source": [
        "<a href=\"https://colab.research.google.com/github/hoanvutt/python/blob/main/reviewbatdongsanaz_PageRank_Init.ipynb\" target=\"_parent\"><img src=\"https://colab.research.google.com/assets/colab-badge.svg\" alt=\"Open In Colab\"/></a>"
      ]
    },
    {
      "cell_type": "code",
      "execution_count": null,
      "metadata": {
        "id": "YNG8RvFALAPL"
      },
      "outputs": [],
      "source": [
        "import pandas as pd"
      ]
    },
    {
      "cell_type": "code",
      "source": [
        "from google.colab import drive\n",
        "drive.mount('/content/drive')"
      ],
      "metadata": {
        "colab": {
          "base_uri": "https://localhost:8080/"
        },
        "id": "2dmFUP4-MwlZ",
        "outputId": "977106d2-a86b-4c3b-9c56-a5b30dd50589"
      },
      "execution_count": null,
      "outputs": [
        {
          "output_type": "stream",
          "name": "stdout",
          "text": [
            "Mounted at /content/drive\n"
          ]
        }
      ]
    },
    {
      "cell_type": "markdown",
      "source": [
        "Đọc dự liệu từ file"
      ],
      "metadata": {
        "id": "hGJDbDUm80yz"
      }
    },
    {
      "cell_type": "code",
      "source": [
        "data = pd.read_excel('reviewbatdongsanaz.xlsx')"
      ],
      "metadata": {
        "id": "micR5KJ_Mycq"
      },
      "execution_count": null,
      "outputs": []
    },
    {
      "cell_type": "markdown",
      "source": [
        "Xoá bớt những cột không cần thiết, chỉ giữa lại **post_id, user_id, username, comments_full**"
      ],
      "metadata": {
        "id": "NRKNw7XJehvE"
      }
    },
    {
      "cell_type": "code",
      "source": [
        "data_pagerank = data.drop(['text', 'post_text', 'shared_text', 'original_text', 'time', 'timestamp', 'image', 'image_lowquality', 'images', 'images_description', 'images_lowquality', 'images_lowquality_description', 'video', 'video_duration_seconds', 'video_height', 'video_id', 'video_quality', 'video_size_MB', 'video_thumbnail', 'video_watches', 'video_width', 'likes', 'comments', 'shares', 'post_url', 'link', 'links', 'user_url', 'is_live', 'factcheck', 'shared_post_id', 'shared_time', 'shared_user_id', 'shared_username', 'shared_post_url', 'available', 'reactors', 'w3_fb_url', 'reactions', 'reaction_count', 'with', 'page_id', 'sharers', 'image_id', 'image_ids', 'was_live', 'fetched_time', 'header', 'video_ids', 'videos'], axis=1)"
      ],
      "metadata": {
        "id": "wYKmqZoqPZyH"
      },
      "execution_count": null,
      "outputs": []
    },
    {
      "cell_type": "markdown",
      "source": [
        "Lấy ra những cột quan trọng nhất để áp dụng thuật toán PageRank"
      ],
      "metadata": {
        "id": "wVr0jxeO4pmF"
      }
    },
    {
      "cell_type": "code",
      "source": [
        "data_pagerank.columns"
      ],
      "metadata": {
        "colab": {
          "base_uri": "https://localhost:8080/"
        },
        "id": "aStLaRddPdJX",
        "outputId": "8855d8be-ee7e-48c4-b348-afb7f421474e"
      },
      "execution_count": null,
      "outputs": [
        {
          "output_type": "execute_result",
          "data": {
            "text/plain": [
              "Index(['post_id', 'user_id', 'username', 'comments_full'], dtype='object')"
            ]
          },
          "metadata": {},
          "execution_count": 58
        }
      ]
    },
    {
      "cell_type": "code",
      "source": [
        "data_pagerank.head()"
      ],
      "metadata": {
        "colab": {
          "base_uri": "https://localhost:8080/",
          "height": 206
        },
        "id": "FK6BDfkGg6Uv",
        "outputId": "ca455626-9f98-44a5-a7c5-530a20e54b7c"
      },
      "execution_count": null,
      "outputs": [
        {
          "output_type": "execute_result",
          "data": {
            "text/html": [
              "\n",
              "  <div id=\"df-6c81f434-3c9b-4cb6-93a4-7020c43af601\">\n",
              "    <div class=\"colab-df-container\">\n",
              "      <div>\n",
              "<style scoped>\n",
              "    .dataframe tbody tr th:only-of-type {\n",
              "        vertical-align: middle;\n",
              "    }\n",
              "\n",
              "    .dataframe tbody tr th {\n",
              "        vertical-align: top;\n",
              "    }\n",
              "\n",
              "    .dataframe thead th {\n",
              "        text-align: right;\n",
              "    }\n",
              "</style>\n",
              "<table border=\"1\" class=\"dataframe\">\n",
              "  <thead>\n",
              "    <tr style=\"text-align: right;\">\n",
              "      <th></th>\n",
              "      <th>post_id</th>\n",
              "      <th>user_id</th>\n",
              "      <th>username</th>\n",
              "      <th>comments_full</th>\n",
              "    </tr>\n",
              "  </thead>\n",
              "  <tbody>\n",
              "    <tr>\n",
              "      <th>0</th>\n",
              "      <td>6726174710786118</td>\n",
              "      <td>100001519055568</td>\n",
              "      <td>Hoàng Quốc Dũng</td>\n",
              "      <td>[{'comment_id': '6726569154080007', 'comment_u...</td>\n",
              "    </tr>\n",
              "    <tr>\n",
              "      <th>1</th>\n",
              "      <td>6825858720817716</td>\n",
              "      <td>100001519055568</td>\n",
              "      <td>Hoàng Quốc Dũng</td>\n",
              "      <td>[{'comment_id': '6825862897483965', 'comment_u...</td>\n",
              "    </tr>\n",
              "    <tr>\n",
              "      <th>2</th>\n",
              "      <td>6821126851290903</td>\n",
              "      <td>100033982608770</td>\n",
              "      <td>Nam Land</td>\n",
              "      <td>[{'comment_id': '6828965457173709', 'comment_u...</td>\n",
              "    </tr>\n",
              "    <tr>\n",
              "      <th>3</th>\n",
              "      <td>6828074313929490</td>\n",
              "      <td>100022158352693</td>\n",
              "      <td>Đình Nguyễn</td>\n",
              "      <td>[{'comment_id': '6828755983861323', 'comment_u...</td>\n",
              "    </tr>\n",
              "    <tr>\n",
              "      <th>4</th>\n",
              "      <td>6798921736844748</td>\n",
              "      <td>100022158352693</td>\n",
              "      <td>Đình Nguyễn</td>\n",
              "      <td>[{'comment_id': '6799136446823277', 'comment_u...</td>\n",
              "    </tr>\n",
              "  </tbody>\n",
              "</table>\n",
              "</div>\n",
              "      <button class=\"colab-df-convert\" onclick=\"convertToInteractive('df-6c81f434-3c9b-4cb6-93a4-7020c43af601')\"\n",
              "              title=\"Convert this dataframe to an interactive table.\"\n",
              "              style=\"display:none;\">\n",
              "        \n",
              "  <svg xmlns=\"http://www.w3.org/2000/svg\" height=\"24px\"viewBox=\"0 0 24 24\"\n",
              "       width=\"24px\">\n",
              "    <path d=\"M0 0h24v24H0V0z\" fill=\"none\"/>\n",
              "    <path d=\"M18.56 5.44l.94 2.06.94-2.06 2.06-.94-2.06-.94-.94-2.06-.94 2.06-2.06.94zm-11 1L8.5 8.5l.94-2.06 2.06-.94-2.06-.94L8.5 2.5l-.94 2.06-2.06.94zm10 10l.94 2.06.94-2.06 2.06-.94-2.06-.94-.94-2.06-.94 2.06-2.06.94z\"/><path d=\"M17.41 7.96l-1.37-1.37c-.4-.4-.92-.59-1.43-.59-.52 0-1.04.2-1.43.59L10.3 9.45l-7.72 7.72c-.78.78-.78 2.05 0 2.83L4 21.41c.39.39.9.59 1.41.59.51 0 1.02-.2 1.41-.59l7.78-7.78 2.81-2.81c.8-.78.8-2.07 0-2.86zM5.41 20L4 18.59l7.72-7.72 1.47 1.35L5.41 20z\"/>\n",
              "  </svg>\n",
              "      </button>\n",
              "      \n",
              "  <style>\n",
              "    .colab-df-container {\n",
              "      display:flex;\n",
              "      flex-wrap:wrap;\n",
              "      gap: 12px;\n",
              "    }\n",
              "\n",
              "    .colab-df-convert {\n",
              "      background-color: #E8F0FE;\n",
              "      border: none;\n",
              "      border-radius: 50%;\n",
              "      cursor: pointer;\n",
              "      display: none;\n",
              "      fill: #1967D2;\n",
              "      height: 32px;\n",
              "      padding: 0 0 0 0;\n",
              "      width: 32px;\n",
              "    }\n",
              "\n",
              "    .colab-df-convert:hover {\n",
              "      background-color: #E2EBFA;\n",
              "      box-shadow: 0px 1px 2px rgba(60, 64, 67, 0.3), 0px 1px 3px 1px rgba(60, 64, 67, 0.15);\n",
              "      fill: #174EA6;\n",
              "    }\n",
              "\n",
              "    [theme=dark] .colab-df-convert {\n",
              "      background-color: #3B4455;\n",
              "      fill: #D2E3FC;\n",
              "    }\n",
              "\n",
              "    [theme=dark] .colab-df-convert:hover {\n",
              "      background-color: #434B5C;\n",
              "      box-shadow: 0px 1px 3px 1px rgba(0, 0, 0, 0.15);\n",
              "      filter: drop-shadow(0px 1px 2px rgba(0, 0, 0, 0.3));\n",
              "      fill: #FFFFFF;\n",
              "    }\n",
              "  </style>\n",
              "\n",
              "      <script>\n",
              "        const buttonEl =\n",
              "          document.querySelector('#df-6c81f434-3c9b-4cb6-93a4-7020c43af601 button.colab-df-convert');\n",
              "        buttonEl.style.display =\n",
              "          google.colab.kernel.accessAllowed ? 'block' : 'none';\n",
              "\n",
              "        async function convertToInteractive(key) {\n",
              "          const element = document.querySelector('#df-6c81f434-3c9b-4cb6-93a4-7020c43af601');\n",
              "          const dataTable =\n",
              "            await google.colab.kernel.invokeFunction('convertToInteractive',\n",
              "                                                     [key], {});\n",
              "          if (!dataTable) return;\n",
              "\n",
              "          const docLinkHtml = 'Like what you see? Visit the ' +\n",
              "            '<a target=\"_blank\" href=https://colab.research.google.com/notebooks/data_table.ipynb>data table notebook</a>'\n",
              "            + ' to learn more about interactive tables.';\n",
              "          element.innerHTML = '';\n",
              "          dataTable['output_type'] = 'display_data';\n",
              "          await google.colab.output.renderOutput(dataTable, element);\n",
              "          const docLink = document.createElement('div');\n",
              "          docLink.innerHTML = docLinkHtml;\n",
              "          element.appendChild(docLink);\n",
              "        }\n",
              "      </script>\n",
              "    </div>\n",
              "  </div>\n",
              "  "
            ],
            "text/plain": [
              "            post_id          user_id         username  \\\n",
              "0  6726174710786118  100001519055568  Hoàng Quốc Dũng   \n",
              "1  6825858720817716  100001519055568  Hoàng Quốc Dũng   \n",
              "2  6821126851290903  100033982608770         Nam Land   \n",
              "3  6828074313929490  100022158352693      Đình Nguyễn   \n",
              "4  6798921736844748  100022158352693      Đình Nguyễn   \n",
              "\n",
              "                                       comments_full  \n",
              "0  [{'comment_id': '6726569154080007', 'comment_u...  \n",
              "1  [{'comment_id': '6825862897483965', 'comment_u...  \n",
              "2  [{'comment_id': '6828965457173709', 'comment_u...  \n",
              "3  [{'comment_id': '6828755983861323', 'comment_u...  \n",
              "4  [{'comment_id': '6799136446823277', 'comment_u...  "
            ]
          },
          "metadata": {},
          "execution_count": 61
        }
      ]
    },
    {
      "cell_type": "code",
      "source": [
        "import re\n",
        "import json\n",
        "import sys\n",
        "\n",
        "columns = ['node_parent', 'node_child']\n",
        "# columns = ['user_name', 'node_parent']\n",
        "df = pd.DataFrame(columns=columns) \n",
        "\n",
        "for data_row in range(len(data_pagerank)):\n",
        "  # user_id\n",
        "  user_id = data_pagerank.loc[data_row, 'user_id']\n",
        "  username = data_pagerank.loc[data_row, 'username']\n",
        "\n",
        "  # commenter_id\n",
        "  try:\n",
        "    comments_full = data_pagerank.loc[data_row]['comments_full']\n",
        "    comments_formarted = comments_full.replace(\"\\'\", \"\\\"\")\n",
        "    comments_formarted = comments_formarted.replace(\"None\", \"\\\"\\\"\")\n",
        "    comments_formarted = re.sub(\"datetime\\.datetime\\([0-9\\s\\,]*\\)\", \"\\\"\\\"\", comments_formarted)\n",
        "    comments_formarted = json.loads(comments_formarted)\n",
        "    comments_formarted = pd.json_normalize(comments_formarted)\n",
        "  except:\n",
        "    break\n",
        "\n",
        "  for comment_row in range(len(comments_formarted)):\n",
        "    # user_id\n",
        "    commenter_id = comments_formarted.loc[comment_row, 'commenter_id']\n",
        "    # commenter_name = comments_formarted.loc[comment_row, 'commenter_name']\n",
        "\n",
        "    # create new dataframe\n",
        "    df_temp = pd.DataFrame([[user_id, commenter_id]], columns=columns)\n",
        "    # df_temp = pd.DataFrame([[username, user_id]], columns=columns)\n",
        "    # df_temp = pd.DataFrame([[commenter_name, commenter_id]], columns=columns)\n",
        "    df = df.append(df_temp, ignore_index=True)"
      ],
      "metadata": {
        "id": "ME4KMfNN6g3P"
      },
      "execution_count": null,
      "outputs": []
    },
    {
      "cell_type": "code",
      "source": [
        "df = df.drop_duplicates()\n",
        "df.to_csv('data_pagerank.txt', encoding='utf-8', index=False)\n",
        "# df.to_csv('data_pagerank_with_name.txt', encoding='utf-8', index=False)"
      ],
      "metadata": {
        "id": "FGMv1BFHj2Yu"
      },
      "execution_count": null,
      "outputs": []
    },
    {
      "cell_type": "code",
      "source": [
        "import re\n",
        "import json\n",
        "import sys\n",
        "\n",
        "columns = ['node_parent', 'node_child']\n",
        "# columns = ['user_name', 'node_parent']\n",
        "df = pd.DataFrame(columns=columns) \n",
        "\n",
        "for data_row in range(len(data_pagerank)):\n",
        "  # user_id\n",
        "  user_id = data_pagerank.loc[data_row, 'user_id']\n",
        "  username = data_pagerank.loc[data_row, 'username']\n",
        "\n",
        "  # commenter_id\n",
        "  try:\n",
        "    comments_full = data_pagerank.loc[data_row]['comments_full']\n",
        "    comments_formarted = comments_full.replace(\"\\'\", \"\\\"\")\n",
        "    comments_formarted = comments_formarted.replace(\"None\", \"\\\"\\\"\")\n",
        "    comments_formarted = re.sub(\"datetime\\.datetime\\([0-9\\s\\,]*\\)\", \"\\\"\\\"\", comments_formarted)\n",
        "    comments_formarted = json.loads(comments_formarted)\n",
        "    comments_formarted = pd.json_normalize(comments_formarted)\n",
        "  except:\n",
        "    break\n",
        "\n",
        "  for comment_row in range(len(comments_formarted)):\n",
        "    # user_id\n",
        "    commenter_id = comments_formarted.loc[comment_row, 'commenter_id']\n",
        "\n",
        "    # create new dataframe\n",
        "    df_temp = pd.DataFrame([[user_id, commenter_id]], columns=columns)\n",
        "    df = df.append(df_temp, ignore_index=True)"
      ],
      "metadata": {
        "id": "Q3df5UKT9Gxp"
      },
      "execution_count": null,
      "outputs": []
    }
  ]
}